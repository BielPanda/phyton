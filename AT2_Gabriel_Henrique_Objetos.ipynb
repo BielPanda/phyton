{
  "nbformat": 4,
  "nbformat_minor": 0,
  "metadata": {
    "colab": {
      "provenance": [],
      "authorship_tag": "ABX9TyP2P7wqYC6oDk62Cwu0vWHk",
      "include_colab_link": true
    },
    "kernelspec": {
      "name": "python3",
      "display_name": "Python 3"
    },
    "language_info": {
      "name": "python"
    }
  },
  "cells": [
    {
      "cell_type": "markdown",
      "metadata": {
        "id": "view-in-github",
        "colab_type": "text"
      },
      "source": [
        "<a href=\"https://colab.research.google.com/github/BielPanda/phyton/blob/main/AT2_Gabriel_Henrique_Objetos.ipynb\" target=\"_parent\"><img src=\"https://colab.research.google.com/assets/colab-badge.svg\" alt=\"Open In Colab\"/></a>"
      ]
    },
    {
      "cell_type": "code",
      "execution_count": null,
      "metadata": {
        "id": "lJqzAu4XBARM",
        "colab": {
          "base_uri": "https://localhost:8080/"
        },
        "outputId": "36232466-5368-410a-ab4a-964124178ec2"
      },
      "outputs": [
        {
          "output_type": "stream",
          "name": "stdout",
          "text": [
            "Gabriel\n",
            "23\n",
            "Olá, meu nome é Gabriel, tenho 23 anos, moro em Rua Principal, 123 e sou do sexo Masculino.\n"
          ]
        }
      ],
      "source": [
        "class Pessoa:\n",
        "    def __init__(self, nome, idade, endereco, sexo):\n",
        "        self.nome = nome\n",
        "        self.idade = idade\n",
        "        self.endereco = endereco\n",
        "        self.sexo = sexo\n",
        "\n",
        "    def apresentar(self):\n",
        "        return f\"Olá, meu nome é {self.nome}, tenho {self.idade} anos, moro em {self.endereco} e sou do sexo {self.sexo}.\"\n",
        "\n",
        "\n",
        "      pessoa1 = Pessoa('Gabriel', 23, 'Rua Principal, 123', 'Masculino')\n",
        "\n",
        "\n",
        "       print(pessoa1.nome)\n",
        "       print(pessoa1.idade)\n",
        "       print(pessoa1.apresentar())\n",
        "\n"
      ]
    },
    {
      "cell_type": "code",
      "source": [
        "class Cadastro:\n",
        "    def __init__(self):\n",
        "        self.pessoas = []\n",
        "\n",
        "    def adicionar_pessoa(self, pessoa):\n",
        "        self.pessoas.append(pessoa)\n",
        "\n",
        "    def listar_pessoas(self):\n",
        "        for pessoa in self.pessoas:\n",
        "            print(pessoa.apresentar())\n",
        "\n",
        "\n",
        "cadastro = Cadastro()\n",
        "\n",
        "\n",
        "pessoa1 = Pessoa(\"Gabriel\", 23, \"Rua Principal, 123\", \"Masculino\")\n",
        "pessoa2 = Pessoa(\"Maria\", 25, \"Avenida Secundária, 456\", \"Feminino\")\n",
        "\n",
        "cadastro.adicionar_pessoa(pessoa1)\n",
        "cadastro.adicionar_pessoa(pessoa2)\n",
        "\n",
        "\n",
        "cadastro.listar_pessoas()"
      ],
      "metadata": {
        "id": "B9zC9Ilu2R7d",
        "colab": {
          "base_uri": "https://localhost:8080/"
        },
        "outputId": "217c96d7-e64d-415b-e606-c86cb9a11520"
      },
      "execution_count": null,
      "outputs": [
        {
          "output_type": "stream",
          "name": "stdout",
          "text": [
            "Olá, meu nome é Gabriel, tenho 23 anos, moro em Rua Principal, 123 e sou do sexo Masculino.\n",
            "Olá, meu nome é Maria, tenho 25 anos, moro em Avenida Secundária, 456 e sou do sexo Feminino.\n"
          ]
        }
      ]
    },
    {
      "cell_type": "code",
      "source": [
        "class Vendedor():\n",
        "  def __init__(self,nome):\n",
        "    self.nome = nome\n",
        "    self.vendas = 0\n",
        "\n",
        "  def vendeu(self, vendas):\n",
        "    self.vendas = vendas\n",
        "\n",
        "  def bateu_meta(self, meta):\n",
        "    if self.vendas > meta:\n",
        "      print(self.nome, \"Bateu a meta\")\n",
        "    else:\n",
        "      print(self.nome, \"Não bateu a meta\")\n",
        "\n",
        "vendedor1 = Vendedor(\"Gabriel\")\n",
        "vendedor1.vendeu(1000)\n",
        "vendedor1.bateu_meta(500)\n",
        "\n",
        "print(vendedor1.vendas)\n",
        ""
      ],
      "metadata": {
        "id": "WkxupRL-TXi8",
        "colab": {
          "base_uri": "https://localhost:8080/"
        },
        "outputId": "9f3a042e-6022-405d-b650-e43649116ec5"
      },
      "execution_count": 7,
      "outputs": [
        {
          "output_type": "stream",
          "name": "stdout",
          "text": [
            "Gabriel Bateu a meta\n",
            "1000\n"
          ]
        }
      ]
    },
    {
      "cell_type": "code",
      "source": [
        "class Produto:\n",
        "    def __init__(self, nome, preco):\n",
        "        self.nome = nome\n",
        "        self.preco = preco\n",
        "\n",
        "    def exibir_informacoes(self):\n",
        "        return f\"Produto: {self.nome}, Preço: R${self.preco:.2f}\"\n",
        "\n",
        "produto1 = Produto(\"Biscoito\", 5)\n",
        "print(produto1.nome)\n",
        "print(produto1.preco)\n"
      ],
      "metadata": {
        "id": "yHe16aEPTX7-",
        "colab": {
          "base_uri": "https://localhost:8080/"
        },
        "outputId": "f25eadfb-7e47-481b-8bc8-08ab04b1086e"
      },
      "execution_count": 12,
      "outputs": [
        {
          "output_type": "stream",
          "name": "stdout",
          "text": [
            "Biscoito\n",
            "5\n"
          ]
        }
      ]
    },
    {
      "cell_type": "code",
      "source": [
        "class Veiculo:\n",
        "    def __init__(self, marca, modelo, ano):\n",
        "        self.marca = marca\n",
        "        self.modelo = modelo\n",
        "        self.ano = ano\n",
        "\n",
        "    def detalhes(self):\n",
        "        return f\"Veículo: {self.marca} {self.modelo}, Ano: {self.ano}\""
      ],
      "metadata": {
        "id": "F-VnqnxlTYQx"
      },
      "execution_count": 14,
      "outputs": []
    }
  ]
}