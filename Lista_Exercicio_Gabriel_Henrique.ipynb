{
  "nbformat": 4,
  "nbformat_minor": 0,
  "metadata": {
    "colab": {
      "provenance": [],
      "authorship_tag": "ABX9TyPYcJcjIk+c8eoskSqJXzPP",
      "include_colab_link": true
    },
    "kernelspec": {
      "name": "python3",
      "display_name": "Python 3"
    },
    "language_info": {
      "name": "python"
    }
  },
  "cells": [
    {
      "cell_type": "markdown",
      "metadata": {
        "id": "view-in-github",
        "colab_type": "text"
      },
      "source": [
        "<a href=\"https://colab.research.google.com/github/BielPanda/phyton/blob/main/Lista_Exercicio_Gabriel_Henrique.ipynb\" target=\"_parent\"><img src=\"https://colab.research.google.com/assets/colab-badge.svg\" alt=\"Open In Colab\"/></a>"
      ]
    },
    {
      "cell_type": "code",
      "execution_count": null,
      "metadata": {
        "colab": {
          "base_uri": "https://localhost:8080/"
        },
        "id": "6ulft6hklCs1",
        "outputId": "9b5dbbc8-ebff-4b6f-f885-7c27d0e2c832"
      },
      "outputs": [
        {
          "output_type": "stream",
          "name": "stdout",
          "text": [
            "Olá ETE Cícero Dias\n"
          ]
        }
      ],
      "source": [
        "mensagem = \"Olá ETE Cícero Dias\"\n",
        "print(mensagem)"
      ]
    },
    {
      "cell_type": "code",
      "source": [
        "numero = input(\"Informe o número: \")\n",
        "print(\"O número informado é: \", numero)"
      ],
      "metadata": {
        "colab": {
          "base_uri": "https://localhost:8080/"
        },
        "id": "Xzf2IGJlldos",
        "outputId": "b32549b7-ab77-42bc-fd58-fdb6b1d00a39"
      },
      "execution_count": null,
      "outputs": [
        {
          "output_type": "stream",
          "name": "stdout",
          "text": [
            "Informe o número: 10\n",
            "O número informado é:  10\n"
          ]
        }
      ]
    },
    {
      "cell_type": "code",
      "source": [
        "numero1 = float(input(\"Digite o primeiro número: \"))\n",
        "numero2 = float(input(\"Digite o segundo número: \"))\n",
        "soma = numero1 + numero2\n",
        "print(\"A soma dos números é: \", soma)"
      ],
      "metadata": {
        "colab": {
          "base_uri": "https://localhost:8080/"
        },
        "id": "RJexCZ8clul5",
        "outputId": "56dae3b2-d98e-413f-9e79-7c0548b43b5e"
      },
      "execution_count": null,
      "outputs": [
        {
          "output_type": "stream",
          "name": "stdout",
          "text": [
            "Digite o primeiro número: 10\n",
            "Digite o segundo número: 24\n",
            "A soma dos números é:  34.0\n"
          ]
        }
      ]
    },
    {
      "cell_type": "code",
      "source": [
        "nota1 = float(input(\"Infome a nota 1: \"))\n",
        "nota2 = float(input(\"Infome a nota 2: \"))\n",
        "nota3 = float(input(\"Infome a nota 3: \"))\n",
        "nota4 = float(input(\"Infome a nota 4: \"))\n",
        "\n",
        "notaFinal = nota1 + nota2 + nota3 + nota4 / 4\n",
        "\n",
        "print(\"A nota final é: \", notaFinal)"
      ],
      "metadata": {
        "colab": {
          "base_uri": "https://localhost:8080/"
        },
        "id": "Hg7eRO1ZmM6Y",
        "outputId": "430d197d-dfa2-41cf-8e17-f72a82f5bb5b"
      },
      "execution_count": null,
      "outputs": [
        {
          "output_type": "stream",
          "name": "stdout",
          "text": [
            "Infome a nota 1: 3\n",
            "Infome a nota 2: 5\n",
            "Infome a nota 3: 6\n",
            "Infome a nota 4: 10\n",
            "A nota final é:  16.5\n"
          ]
        }
      ]
    },
    {
      "cell_type": "code",
      "source": [
        "metros = float(input(\"Digite o valor em metros: \"))\n",
        "\n",
        "centimetros = metros * 100\n",
        "\n",
        "print(\"O valor em centimetros é: \", centimetros)"
      ],
      "metadata": {
        "colab": {
          "base_uri": "https://localhost:8080/"
        },
        "id": "jvhk8DbzmyGU",
        "outputId": "91ef69ed-b8d1-43da-fc7b-d4a9b6588379"
      },
      "execution_count": null,
      "outputs": [
        {
          "output_type": "stream",
          "name": "stdout",
          "text": [
            "Digite o valor em metros: 10\n",
            "O valor em centimetros é:  1000.0\n"
          ]
        }
      ]
    },
    {
      "cell_type": "code",
      "source": [
        "import math\n",
        "raio = float(input(\"Digite o raio do círculos: \"))\n",
        "\n",
        "area = math.pi * raio**2\n",
        "\n",
        "print(\"A aréa do círculo é: \", area)"
      ],
      "metadata": {
        "colab": {
          "base_uri": "https://localhost:8080/"
        },
        "id": "BQL8-pDdnJEC",
        "outputId": "5aebe45d-c378-4664-da2b-0dcb25f71678"
      },
      "execution_count": null,
      "outputs": [
        {
          "output_type": "stream",
          "name": "stdout",
          "text": [
            "Digite o raio do círculos: 10\n",
            "A aréa do círculo é:  314.1592653589793\n"
          ]
        }
      ]
    },
    {
      "cell_type": "code",
      "source": [
        "lado = float(input(\"Digite o lado do quadrado: \"))\n",
        "\n",
        "area = lado ** 2\n",
        "dobro_area = 2 ** area\n",
        "\n",
        "print(\"A area do quadrado é\", area)\n",
        "print(\"O dobro da area é: \", dobro_area)"
      ],
      "metadata": {
        "colab": {
          "base_uri": "https://localhost:8080/"
        },
        "id": "GTkrvb6ln-_j",
        "outputId": "07a4f367-d8eb-4228-d640-7045c0e956b6"
      },
      "execution_count": null,
      "outputs": [
        {
          "output_type": "stream",
          "name": "stdout",
          "text": [
            "Digite o lado do quadrado: 4\n",
            "A area do quadrado é 16.0\n",
            "O dobro da area é:  65536.0\n"
          ]
        }
      ]
    },
    {
      "cell_type": "code",
      "source": [
        "valor_por_horas = float(input(\"Digite o valor trabalhadas por horas: \"))\n",
        "horas_trabalhadas = float(input(\"Digite as horas trabalhadas: \"))\n",
        "\n",
        "salario_mensal = valor_por_horas * horas_trabalhadas\n",
        "\n",
        "print(\"Seu salario mensal é:\", salario_mensal)\n"
      ],
      "metadata": {
        "colab": {
          "base_uri": "https://localhost:8080/"
        },
        "id": "0yDsaABwogFj",
        "outputId": "87d047bf-3c7b-46d1-90c1-f42d2fc6ca64"
      },
      "execution_count": null,
      "outputs": [
        {
          "output_type": "stream",
          "name": "stdout",
          "text": [
            "Digite o valor trabalhadas por horas: 30\n",
            "Digite as horas trabalhadas: 8\n",
            "Seu salario mensal é: 240.0\n"
          ]
        }
      ]
    },
    {
      "cell_type": "code",
      "source": [
        "valor = float(input(\"Digite um valor: \"))\n",
        "\n",
        "if valor > 0:\n",
        "    print(\"Positivo\")\n",
        "elif valor < 0:\n",
        "    print(\"Negativo\")\n",
        "else:\n",
        "    print(\"O valor é zero\")"
      ],
      "metadata": {
        "colab": {
          "base_uri": "https://localhost:8080/"
        },
        "id": "p4esYVyZpiNL",
        "outputId": "4525c030-47ac-4184-e835-cc104f7b6c95"
      },
      "execution_count": null,
      "outputs": [
        {
          "output_type": "stream",
          "name": "stdout",
          "text": [
            "Digite um valor: 15\n",
            "Positivo\n"
          ]
        }
      ]
    },
    {
      "cell_type": "code",
      "source": [
        "letra = input(\"Digite uma letra: \")\n",
        "\n",
        "if letra == \"F\" or letra == \"f\":\n",
        "    print(\"F - Feminino\")\n",
        "elif letra == \"M\" or letra == \"m\":\n",
        "    print(\"M - Masculino\")\n",
        "else:\n",
        "    (\"Sexo inválido\")"
      ],
      "metadata": {
        "colab": {
          "base_uri": "https://localhost:8080/"
        },
        "id": "kRcwezbMqJ3w",
        "outputId": "4f057505-8cf7-4445-85b5-6daa6997acad"
      },
      "execution_count": null,
      "outputs": [
        {
          "output_type": "stream",
          "name": "stdout",
          "text": [
            "Digite uma letra: m\n",
            "M - Masculino\n"
          ]
        }
      ]
    }
  ]
}